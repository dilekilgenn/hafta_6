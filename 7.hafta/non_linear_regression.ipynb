{
 "cells": [
  {
   "cell_type": "markdown",
   "metadata": {},
   "source": [
    "# Non-linear regression"
   ]
  },
  {
   "cell_type": "code",
   "execution_count": 1,
   "metadata": {},
   "outputs": [],
   "source": [
    "import numpy as np\n",
    "import matplotlib.pyplot as plt\n"
   ]
  },
  {
   "cell_type": "code",
   "execution_count": 2,
   "metadata": {},
   "outputs": [
    {
     "data": {
      "text/plain": [
       "<matplotlib.collections.PathCollection at 0x167de6170d0>"
      ]
     },
     "execution_count": 2,
     "metadata": {},
     "output_type": "execute_result"
    },
    {
     "data": {
      "image/png": "[encoded data removed]",
      "text/plain": [
       "<Figure size 640x480 with 1 Axes>"
      ]
     },
     "metadata": {},
     "output_type": "display_data"
    }
   ],
   "source": [
    "x = np.linspace(0,10.100)\n",
    "y = np.exp(x)\n",
    "\n",
    "plt.scatter(x,y)"
   ]
  },
  {
   "cell_type": "markdown",
   "metadata": {},
   "source": [
    "Polynomial Regression\n",
    "- Exponential\n",
    "- Quadratic\n",
    "- Cubic"
   ]
  },
  {
   "cell_type": "markdown",
   "metadata": {},
   "source": [
    "x1 = x\n",
    "x2= x * 2\n",
    "x3= x * 3 \n",
    "y* \n",
    "Polynomial regression is considered to be a special case of traditional multiple linear regression \n",
    "- Polynomial regression models can fit using the model of \"least square.\n",
    "- Minimize the sum of the squares of the differences between y and y* ( y_Hat)"
   ]
  },
  {
   "cell_type": "markdown",
   "metadata": {},
   "source": [
    "## Non-linear regression \n",
    "-non-linear relationship between the dependent variable and a set of independent variables\n",
    "- for a model to be considered non-linear functıon of the parameters 0, not necessarily the features of x.\n",
    "- in non-linear regression, a model is non-linear by parameters.\n"
   ]
  },
  {
   "cell_type": "markdown",
   "metadata": {},
   "source": [
    "How can I know if a problem is linear or non-linear?\n",
    "-Visually figure out relation , use plots of output variables with each input variable.\n",
    "-Calculate the correlation cofficient between independet variable.\n",
    "- İf for all variables it is 0.7 or higher there is a lineraity, and its not a appropriate to fit a non-linear regression "
   ]
  },
  {
   "cell_type": "markdown",
   "metadata": {},
   "source": [
    "How should I model my data, if it displays non-linear scatterplot? \n",
    "polynominal regression\n",
    "non-linear regression model\n",
    "transform your data"
   ]
  },
  {
   "cell_type": "code",
   "execution_count": 4,
   "metadata": {},
   "outputs": [],
   "source": [
    "import matplotlib.pyplot as plt \n",
    "import pandas as pd\n",
    "import pylab as pl\n",
    "import numpy as np\n",
    "%matplotlib inline "
   ]
  },
  {
   "cell_type": "code",
   "execution_count": null,
   "metadata": {},
   "outputs": [],
   "source": [
    "df= pd.read_csv(\"../data/FuelConsumption.csv\")\n",
    "cdf=df[[\"ENGINESIZE\",\"CYLINDERS\",\"FUELCONSUMPTION_COMB\",\"CO2EMISSIONS\"]]"
   ]
  },
  {
   "cell_type": "code",
   "execution_count": null,
   "metadata": {},
   "outputs": [],
   "source": [
    "plt.rcParams[\"figure.figsize\"]=(12,6)\n",
    "\n",
    "viz= cdf[[\"ENGINESIZE\",\"CYLINDERS\",\"FUELCONSUMPTION_COMB\",]]\n",
    "viz.hist()\n",
    "plt.show()"
   ]
  }
 ],
 "metadata": {
  "kernelspec": {
   "display_name": "base",
   "language": "python",
   "name": "python3"
  },
  "language_info": {
   "codemirror_mode": {
    "name": "ipython",
    "version": 3
   },
   "file_extension": ".py",
   "mimetype": "text/x-python",
   "name": "python",
   "nbconvert_exporter": "python",
   "pygments_lexer": "ipython3",
   "version": "3.11.5"
  }
 },
 "nbformat": 4,
 "nbformat_minor": 2
}
